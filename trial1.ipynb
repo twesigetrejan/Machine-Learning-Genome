{
 "cells": [
  {
   "cell_type": "code",
   "execution_count": 2,
   "id": "74687f3c-8aab-4ff4-992a-db1b676fbac2",
   "metadata": {},
   "outputs": [
    {
     "name": "stdout",
     "output_type": "stream",
     "text": [
      "   Gene ID Gene Name  Gene Type  Chromosome  \\\n",
      "0    79068       FTO          6          16   \n",
      "1     4160      MC4R          6          18   \n",
      "2     3953      LEPR          6           1   \n",
      "3     5468     PPARG          6           3   \n",
      "4     9370    ADIPOQ          6           3   \n",
      "\n",
      "                                            Function  Associated Diseases  \\\n",
      "0  This gene is a nuclear protein of the AlkB rel...                  NaN   \n",
      "1  The protein encoded by this gene is a membrane...                  NaN   \n",
      "2  The protein encoded by this gene belongs to th...                  NaN   \n",
      "3  This gene encodes a member of the peroxisome p...                  NaN   \n",
      "4  This gene is expressed in adipose tissue exclu...                  NaN   \n",
      "\n",
      "                        Interaction with Other Genes  Effect of SNP  \\\n",
      "0  MGC5149, KIAA1752, Comprehensive analysis of t...  Not available   \n",
      "1  MGC126851, MGC138197, Melanocortin-4 Receptor ...  Not available   \n",
      "2  DKFZp686B1731, The Arg/Arg genotype of leptin ...  Not available   \n",
      "3  Exploring the molecular pathways of the activa...  Not available   \n",
      "4  Association of adiponectin gene single nucleot...  Not available   \n",
      "\n",
      "  Expression in Obese vs. Non-Obese Individuals  \\\n",
      "0                                 Not available   \n",
      "1                                 Not available   \n",
      "2                                 Not available   \n",
      "3                                 Not available   \n",
      "4                                 Not available   \n",
      "\n",
      "  Gene Expression in Response to Diet  \n",
      "0                       Not available  \n",
      "1                       Not available  \n",
      "2                       Not available  \n",
      "3                       Not available  \n",
      "4                       Not available  \n"
     ]
    }
   ],
   "source": [
    "import pandas as pd\n",
    "\n",
    "# Load datasets\n",
    "genetic_df = pd.read_csv(\"genetic_data_detailed.csv\")  # Updated dataset\n",
    "\n",
    "print(genetic_df)"
   ]
  },
  {
   "cell_type": "code",
   "execution_count": null,
   "id": "f8e7c149-78b8-4f3c-9069-c35bd35da8ce",
   "metadata": {},
   "outputs": [],
   "source": []
  }
 ],
 "metadata": {
  "kernelspec": {
   "display_name": "Python 3 (ipykernel)",
   "language": "python",
   "name": "python3"
  },
  "language_info": {
   "codemirror_mode": {
    "name": "ipython",
    "version": 3
   },
   "file_extension": ".py",
   "mimetype": "text/x-python",
   "name": "python",
   "nbconvert_exporter": "python",
   "pygments_lexer": "ipython3",
   "version": "3.13.1"
  }
 },
 "nbformat": 4,
 "nbformat_minor": 5
}
