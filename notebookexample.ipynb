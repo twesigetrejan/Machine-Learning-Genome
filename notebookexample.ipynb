{
 "cells": [
  {
   "cell_type": "markdown",
   "id": "fe3ff25a-f7db-4a6d-9c00-04b6ce337824",
   "metadata": {},
   "source": [
    "Example 1\n"
   ]
  },
  {
   "cell_type": "code",
   "execution_count": 1,
   "id": "3e7871fe-49ab-48b7-998d-92b975ed71c3",
   "metadata": {},
   "outputs": [
    {
     "name": "stdout",
     "output_type": "stream",
     "text": [
      "Hello world\n"
     ]
    }
   ],
   "source": [
    "print(\"Hello world\")"
   ]
  },
  {
   "cell_type": "markdown",
   "id": "cdf782aa-0235-4eb7-8033-216c62fac931",
   "metadata": {},
   "source": [
    "again"
   ]
  },
  {
   "cell_type": "code",
   "execution_count": null,
   "id": "f4428248-e7e6-4dd2-a002-e49b5f4e6c85",
   "metadata": {},
   "outputs": [],
   "source": []
  }
 ],
 "metadata": {
  "kernelspec": {
   "display_name": "Python 3 (ipykernel)",
   "language": "python",
   "name": "python3"
  },
  "language_info": {
   "codemirror_mode": {
    "name": "ipython",
    "version": 3
   },
   "file_extension": ".py",
   "mimetype": "text/x-python",
   "name": "python",
   "nbconvert_exporter": "python",
   "pygments_lexer": "ipython3",
   "version": "3.13.1"
  }
 },
 "nbformat": 4,
 "nbformat_minor": 5
}
